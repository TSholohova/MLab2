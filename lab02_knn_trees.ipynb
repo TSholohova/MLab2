{
 "cells": [
  {
   "cell_type": "markdown",
   "metadata": {},
   "source": [
    "# Лабораторная работа 2. Метод ближайших соседей и решающие деревья."
   ]
  },
  {
   "cell_type": "markdown",
   "metadata": {},
   "source": [
    "ФИО: Шолохова Татьяна Николаевна\n",
    "\n",
    "Группа: 317"
   ]
  },
  {
   "cell_type": "code",
   "execution_count": 1,
   "metadata": {
    "collapsed": true
   },
   "outputs": [],
   "source": [
    "import numpy as np\n",
    "import pandas as pd\n",
    "import sklearn\n",
    "from collections import defaultdict\n",
    "import sys"
   ]
  },
  {
   "cell_type": "markdown",
   "metadata": {},
   "source": [
    "Все эксперименты в этой лабораторной работе предлагается проводить на данных соревнования Amazon Employee Access Challenge: https://www.kaggle.com/c/amazon-employee-access-challenge\n",
    "\n",
    "В данной задаче предлагается предсказать, будет ли одобрен запрос сотрудника на получение доступа к тому или иному ресурсу. Все признаки являются категориальными.\n",
    "\n",
    "Для удобства данные можно загрузить по ссылке: https://www.dropbox.com/s/q6fbs1vvhd5kvek/amazon.csv\n",
    "\n",
    "Сразу прочитаем данные и создадим разбиение на обучение и контроль:"
   ]
  },
  {
   "cell_type": "code",
   "execution_count": 2,
   "metadata": {
    "collapsed": false
   },
   "outputs": [
    {
     "data": {
      "text/html": [
       "<div>\n",
       "<table border=\"1\" class=\"dataframe\">\n",
       "  <thead>\n",
       "    <tr style=\"text-align: right;\">\n",
       "      <th></th>\n",
       "      <th>ACTION</th>\n",
       "      <th>RESOURCE</th>\n",
       "      <th>MGR_ID</th>\n",
       "      <th>ROLE_ROLLUP_1</th>\n",
       "      <th>ROLE_ROLLUP_2</th>\n",
       "      <th>ROLE_DEPTNAME</th>\n",
       "      <th>ROLE_TITLE</th>\n",
       "      <th>ROLE_FAMILY_DESC</th>\n",
       "      <th>ROLE_FAMILY</th>\n",
       "      <th>ROLE_CODE</th>\n",
       "    </tr>\n",
       "  </thead>\n",
       "  <tbody>\n",
       "    <tr>\n",
       "      <th>0</th>\n",
       "      <td>1</td>\n",
       "      <td>39353</td>\n",
       "      <td>85475</td>\n",
       "      <td>117961</td>\n",
       "      <td>118300</td>\n",
       "      <td>123472</td>\n",
       "      <td>117905</td>\n",
       "      <td>117906</td>\n",
       "      <td>290919</td>\n",
       "      <td>117908</td>\n",
       "    </tr>\n",
       "    <tr>\n",
       "      <th>1</th>\n",
       "      <td>1</td>\n",
       "      <td>17183</td>\n",
       "      <td>1540</td>\n",
       "      <td>117961</td>\n",
       "      <td>118343</td>\n",
       "      <td>123125</td>\n",
       "      <td>118536</td>\n",
       "      <td>118536</td>\n",
       "      <td>308574</td>\n",
       "      <td>118539</td>\n",
       "    </tr>\n",
       "    <tr>\n",
       "      <th>2</th>\n",
       "      <td>1</td>\n",
       "      <td>36724</td>\n",
       "      <td>14457</td>\n",
       "      <td>118219</td>\n",
       "      <td>118220</td>\n",
       "      <td>117884</td>\n",
       "      <td>117879</td>\n",
       "      <td>267952</td>\n",
       "      <td>19721</td>\n",
       "      <td>117880</td>\n",
       "    </tr>\n",
       "    <tr>\n",
       "      <th>3</th>\n",
       "      <td>1</td>\n",
       "      <td>36135</td>\n",
       "      <td>5396</td>\n",
       "      <td>117961</td>\n",
       "      <td>118343</td>\n",
       "      <td>119993</td>\n",
       "      <td>118321</td>\n",
       "      <td>240983</td>\n",
       "      <td>290919</td>\n",
       "      <td>118322</td>\n",
       "    </tr>\n",
       "    <tr>\n",
       "      <th>4</th>\n",
       "      <td>1</td>\n",
       "      <td>42680</td>\n",
       "      <td>5905</td>\n",
       "      <td>117929</td>\n",
       "      <td>117930</td>\n",
       "      <td>119569</td>\n",
       "      <td>119323</td>\n",
       "      <td>123932</td>\n",
       "      <td>19793</td>\n",
       "      <td>119325</td>\n",
       "    </tr>\n",
       "  </tbody>\n",
       "</table>\n",
       "</div>"
      ],
      "text/plain": [
       "   ACTION  RESOURCE  MGR_ID  ROLE_ROLLUP_1  ROLE_ROLLUP_2  ROLE_DEPTNAME  \\\n",
       "0       1     39353   85475         117961         118300         123472   \n",
       "1       1     17183    1540         117961         118343         123125   \n",
       "2       1     36724   14457         118219         118220         117884   \n",
       "3       1     36135    5396         117961         118343         119993   \n",
       "4       1     42680    5905         117929         117930         119569   \n",
       "\n",
       "   ROLE_TITLE  ROLE_FAMILY_DESC  ROLE_FAMILY  ROLE_CODE  \n",
       "0      117905            117906       290919     117908  \n",
       "1      118536            118536       308574     118539  \n",
       "2      117879            267952        19721     117880  \n",
       "3      118321            240983       290919     118322  \n",
       "4      119323            123932        19793     119325  "
      ]
     },
     "execution_count": 2,
     "metadata": {},
     "output_type": "execute_result"
    }
   ],
   "source": [
    "data = pd.read_csv('amazon.csv')\n",
    "data.head()"
   ]
  },
  {
   "cell_type": "code",
   "execution_count": 3,
   "metadata": {
    "collapsed": false
   },
   "outputs": [
    {
     "data": {
      "text/plain": [
       "(32769, 10)"
      ]
     },
     "execution_count": 3,
     "metadata": {},
     "output_type": "execute_result"
    }
   ],
   "source": [
    "data.shape"
   ]
  },
  {
   "cell_type": "code",
   "execution_count": 4,
   "metadata": {
    "collapsed": false
   },
   "outputs": [
    {
     "data": {
      "text/plain": [
       "0.9421099209618847"
      ]
     },
     "execution_count": 4,
     "metadata": {},
     "output_type": "execute_result"
    }
   ],
   "source": [
    "# доля положительных примеров\n",
    "data.ACTION.mean()"
   ]
  },
  {
   "cell_type": "code",
   "execution_count": 5,
   "metadata": {
    "collapsed": false
   },
   "outputs": [
    {
     "name": "stdout",
     "output_type": "stream",
     "text": [
      "ACTION 2\n",
      "RESOURCE 7518\n",
      "MGR_ID 4243\n",
      "ROLE_ROLLUP_1 128\n",
      "ROLE_ROLLUP_2 177\n",
      "ROLE_DEPTNAME 449\n",
      "ROLE_TITLE 343\n",
      "ROLE_FAMILY_DESC 2358\n",
      "ROLE_FAMILY 67\n",
      "ROLE_CODE 343\n"
     ]
    }
   ],
   "source": [
    "# число значений у признаков\n",
    "for col_name in data.columns:\n",
    "    print col_name, len(data[col_name].unique())"
   ]
  },
  {
   "cell_type": "code",
   "execution_count": 6,
   "metadata": {
    "collapsed": true
   },
   "outputs": [],
   "source": [
    "from sklearn.cross_validation import train_test_split\n",
    "X_train, X_test, y_train, y_test = train_test_split(data.iloc[:, 1:], data.iloc[:, 0],\n",
    "                                                    test_size=0.3, random_state=241)"
   ]
  },
  {
   "cell_type": "code",
   "execution_count": 7,
   "metadata": {
    "collapsed": true
   },
   "outputs": [],
   "source": [
    "X_train = np.array(X_train)\n",
    "y_train = np.array(y_train)\n",
    "X_test = np.array(X_test)\n",
    "y_test = np.array(y_test)"
   ]
  },
  {
   "cell_type": "markdown",
   "metadata": {},
   "source": [
    "## Часть 1: kNN и категориальные признаки"
   ]
  },
  {
   "cell_type": "markdown",
   "metadata": {},
   "source": [
    "#### 1. Реализуйте три функции расстояния на категориальных признаках, которые обсуждались на втором семинаре. Реализуйте самостоятельно метод k ближайших соседей, который будет уметь работать с этими функциями расстояния (учитите, что он должен возвращать вероятность — отношение объектов первого класса среди соседей к числу соседей). Как вариант, можно реализовать метрики как [user-defined distance](http://scikit-learn.org/stable/modules/generated/sklearn.neighbors.DistanceMetric.html), после чего воспользоваться реализацией kNN из sklearn (в этом случае используйте функцию predict_proba).\n",
    "\n",
    "#### Подсчитайте для каждой из метрик качество на тестовой выборке `X_test` при числе соседей $k = 10$. Мера качества — AUC-ROC.\n",
    "\n",
    "Какая функция расстояния оказалась лучшей?"
   ]
  },
  {
   "cell_type": "code",
   "execution_count": 11,
   "metadata": {
    "collapsed": true
   },
   "outputs": [],
   "source": [
    "def metric0(x, y):\n",
    "    neq = (x[:, np.newaxis, :] != y[np.newaxis, :, :]).astype('float64')\n",
    "    return np.sum(neq, axis = 2)"
   ]
  },
  {
   "cell_type": "code",
   "execution_count": 12,
   "metadata": {
    "collapsed": false
   },
   "outputs": [],
   "source": [
    "def count_sum_p(x):\n",
    "    sum_p = list()\n",
    "    f = list()\n",
    "    l = x.shape[0]\n",
    "    for j in range(x.shape[1]):\n",
    "        f_j = defaultdict(int)\n",
    "        for i in range(l):\n",
    "            f_j[x[i, j]] += 1\n",
    "        f.append(f_j)\n",
    "        p_j = defaultdict(float)\n",
    "        for i in f_j:\n",
    "            p_j[i] = f_j[i] * (f_j[i] - 1) / float(l * (l - 1))\n",
    "        \n",
    "        sum_p_j = defaultdict(float)\n",
    "        for i in p_j:\n",
    "            for k in p_j:\n",
    "                if p_j[k] <= p_j[i]:\n",
    "                    sum_p_j[i] += p_j[k]\n",
    "        sum_p.append(sum_p_j)\n",
    "    \n",
    "    return (f, sum_p)\n",
    "(f, sum_p) = count_sum_p(X_train)"
   ]
  },
  {
   "cell_type": "code",
   "execution_count": 13,
   "metadata": {
    "collapsed": false
   },
   "outputs": [],
   "source": [
    "def metric1(x, y):\n",
    "    neq = (x[:, np.newaxis, :] != y[np.newaxis, :, :]).astype('float64')\n",
    "    eq = (x[:, np.newaxis, :] == y[np.newaxis, :, :]).astype('float64')\n",
    "    for i in range(x.shape[0]):\n",
    "         for k in range(x.shape[1]):\n",
    "                eq[i, :, k] *= sum_p[k][x[i][k]]\n",
    "    return np.sum(neq, axis = 2) + np.sum(eq, axis = 2)"
   ]
  },
  {
   "cell_type": "code",
   "execution_count": 14,
   "metadata": {
    "collapsed": false
   },
   "outputs": [],
   "source": [
    "def metric2(x, y):\n",
    "    neq = (x[:, np.newaxis, :] != y[np.newaxis, :, :]).astype('float64')\n",
    "    for i in range(x.shape[0]):\n",
    "        for k in range(x.shape[1]):\n",
    "            neq[i, :, k] *= np.log(1 + f[k][x[i][k]]) \n",
    "    for j in range(y.shape[0]):\n",
    "        for k in range(y.shape[1]):\n",
    "            neq[:, j, k] *= np.log(1 + f[k][y[j][k]])\n",
    "    return np.sum(neq, axis = 2)"
   ]
  },
  {
   "cell_type": "code",
   "execution_count": 15,
   "metadata": {
    "collapsed": true
   },
   "outputs": [],
   "source": [
    "def my_knn(X_train, y_train, X_test, metric, k=10):\n",
    "    dist = metric(X_test, X_train)\n",
    "    id_sort = np.argsort(dist, axis = 1)\n",
    "    return np.sum(y_train[id_sort[:, :k]], axis=1) / float(k)"
   ]
  },
  {
   "cell_type": "code",
   "execution_count": 14,
   "metadata": {
    "collapsed": false
   },
   "outputs": [
    {
     "name": "stdout",
     "output_type": "stream",
     "text": [
      "[ 1.   1.   1.   0.9  0.6  1.   0.6  1.   0.9  0.9]\n",
      "[ 1.   1.   1.   0.9  0.6  1.   0.6  1.   0.9  0.8]\n",
      "[ 1.   1.   1.   0.9  0.9  1.   0.6  1.   0.9  0.9]\n"
     ]
    }
   ],
   "source": [
    "print my_knn(X_train, y_train, X_test[:10], metric0)\n",
    "print my_knn(X_train, y_train, X_test[:10], metric1)\n",
    "print my_knn(X_train, y_train, X_test[:10], metric2)"
   ]
  },
  {
   "cell_type": "code",
   "execution_count": 16,
   "metadata": {
    "collapsed": false
   },
   "outputs": [],
   "source": [
    "def block_search(X_test, knn, N=100):\n",
    "    i = 0\n",
    "    while i < X_test.shape[0]:\n",
    "        x = X_test[i:min(i + N, X_test.shape[0]),:]\n",
    "        if (i == 0):\n",
    "            res = knn(x)\n",
    "        else:\n",
    "            new_res = knn(x)\n",
    "            res = np.concatenate((res, new_res))\n",
    "        i += N\n",
    "        sys.stdout.write('.')\n",
    "        sys.stdout.flush()\n",
    "    return res\n",
    "\n",
    "def run_block_knn(X_train, y_train, X_test, metric, k=10, N=100):\n",
    "    return block_search(X_test, lambda a: my_knn(X_train, y_train, a, metric, k), N)"
   ]
  },
  {
   "cell_type": "code",
   "execution_count": 21,
   "metadata": {
    "collapsed": false
   },
   "outputs": [
    {
     "name": "stdout",
     "output_type": "stream",
     "text": [
      "...................................................................................................\n",
      "...................................................................................................\n",
      "..................................................................................................."
     ]
    }
   ],
   "source": [
    "prob0 = run_block_knn(X_train, y_train, X_test, metric0)\n",
    "sys.stdout.write('\\n')\n",
    "prob1 = run_block_knn(X_train, y_train, X_test, metric1)\n",
    "sys.stdout.write('\\n')\n",
    "prob2 = run_block_knn(X_train, y_train, X_test, metric2)"
   ]
  },
  {
   "cell_type": "code",
   "execution_count": 24,
   "metadata": {
    "collapsed": false
   },
   "outputs": [
    {
     "name": "stdout",
     "output_type": "stream",
     "text": [
      "0.83088009598 0.832873632128 0.820966777872\n"
     ]
    }
   ],
   "source": [
    "auc0 = sklearn.metrics.roc_auc_score(y_test, prob0)\n",
    "auc1 = sklearn.metrics.roc_auc_score(y_test, prob1)\n",
    "auc2 = sklearn.metrics.roc_auc_score(y_test, prob2)\n",
    "print auc0, auc1, auc2"
   ]
  },
  {
   "cell_type": "markdown",
   "metadata": {},
   "source": [
    "Лучшей функцией расстояния оказалась metric1 \"Индикатор совпадения со штрафом\", AUC_ROC = $\\bf 83,29\\%$"
   ]
  },
  {
   "cell_type": "markdown",
   "metadata": {},
   "source": [
    "#### 2 (бонус). Подберите лучшее (на тестовой выборке) число соседей $k$ для каждой из функций расстояния. Какое наилучшее качество удалось достичь?"
   ]
  },
  {
   "cell_type": "code",
   "execution_count": 17,
   "metadata": {
    "collapsed": true
   },
   "outputs": [],
   "source": [
    "CNT_K = 20\n",
    "def best_k(metric):\n",
    "    auc = list()\n",
    "    for k in range(1, CNT_K):\n",
    "        prob = run_block_knn(X_train, y_train, X_test, metric, k)\n",
    "        auc.append(sklearn.metrics.roc_auc_score(y_test, prob))\n",
    "        sys.stdout.write('\\n')\n",
    "        sys.stdout.write(str(auc[-1]) + ' ' + str(k))\n",
    "        sys.stdout.write('\\n')\n",
    "        sys.stdout.flush()\n",
    "    return np.array(auc)"
   ]
  },
  {
   "cell_type": "code",
   "execution_count": 18,
   "metadata": {
    "collapsed": false
   },
   "outputs": [
    {
     "name": "stdout",
     "output_type": "stream",
     "text": [
      "...................................................................................................\n",
      "0.709392461188 1\n",
      "...................................................................................................\n",
      "0.777446570068 2\n",
      "...................................................................................................\n",
      "0.799401346109 3\n",
      "...................................................................................................\n",
      "0.814440745988 4\n",
      "...................................................................................................\n",
      "0.822305895749 5\n",
      "...................................................................................................\n",
      "0.82708243927 6\n",
      "...................................................................................................\n",
      "0.828995914087 7\n",
      "...................................................................................................\n",
      "0.830774695372 8\n",
      "...................................................................................................\n",
      "0.829924122344 9\n",
      "...................................................................................................\n",
      "0.83088009598 10\n",
      "...................................................................................................\n",
      "0.831201958708 11\n",
      "...................................................................................................\n",
      "0.829705773258 12\n",
      "...................................................................................................\n",
      "0.83102602146 13\n",
      "...................................................................................................\n",
      "0.830949015219 14\n",
      "...................................................................................................\n",
      "0.828103648065 15\n",
      "...................................................................................................\n",
      "0.828001122835 16\n",
      "...................................................................................................\n",
      "0.824370327959 17\n",
      "...................................................................................................\n",
      "0.825269423005 18\n",
      "...................................................................................................\n",
      "0.824044781151 19\n",
      "...................................................................................................\n",
      "0.707750529968 1\n",
      "...................................................................................................\n",
      "0.767768404042 2\n",
      "...................................................................................................\n",
      "0.802361997986 3\n",
      "...................................................................................................\n",
      "0.821163561617 4\n",
      "...................................................................................................\n",
      "0.82711667425 5\n",
      "...................................................................................................\n",
      "0.833546920074 6\n",
      "...................................................................................................\n",
      "0.836160998935 7\n",
      "...................................................................................................\n",
      "0.834237819715 8\n",
      "...................................................................................................\n",
      "0.835385095905 9\n",
      "...................................................................................................\n",
      "0.832873632128 10\n",
      "...................................................................................................\n",
      "0.832052172313 11\n",
      "...................................................................................................\n",
      "0.832585734814 12\n",
      "...................................................................................................\n",
      "0.829307533277 13\n",
      "...................................................................................................\n",
      "0.829549694096 14\n",
      "...................................................................................................\n",
      "0.827677283284 15\n",
      "...................................................................................................\n",
      "0.826642146873 16\n",
      "...................................................................................................\n",
      "0.825933186258 17\n",
      "...................................................................................................\n",
      "0.82495178349 18\n",
      "...................................................................................................\n",
      "0.824726605378 19\n",
      "...................................................................................................\n",
      "0.723262210836 1\n",
      "...................................................................................................\n",
      "0.769017846039 2\n",
      "...................................................................................................\n",
      "0.790553535602 3\n",
      "...................................................................................................\n",
      "0.805637234288 4\n",
      "...................................................................................................\n",
      "0.810224811501 5\n",
      "...................................................................................................\n",
      "0.815499244854 6\n",
      "...................................................................................................\n",
      "0.81975004331 7\n",
      "...................................................................................................\n",
      "0.819655155806 8\n",
      "...................................................................................................\n",
      "0.821106952594 9\n",
      "...................................................................................................\n",
      "0.820966777872 10\n",
      "...................................................................................................\n",
      "0.81878580296 11\n",
      "...................................................................................................\n",
      "0.820056271165 12\n",
      "...................................................................................................\n",
      "0.818293124753 13\n",
      "...................................................................................................\n",
      "0.816952748898 14\n",
      "...................................................................................................\n",
      "0.812440919949 15\n",
      "...................................................................................................\n",
      "0.810324012074 16\n",
      "...................................................................................................\n",
      "0.811572465659 17\n",
      "...................................................................................................\n",
      "0.809703649072 18\n",
      "...................................................................................................\n",
      "0.808105118103 19\n"
     ]
    }
   ],
   "source": [
    "auc0 = best_k(metric0)\n",
    "auc1 = best_k(metric1)\n",
    "auc2 = best_k(metric2)"
   ]
  },
  {
   "cell_type": "code",
   "execution_count": 19,
   "metadata": {
    "collapsed": false
   },
   "outputs": [
    {
     "data": {
      "image/png": "[encoded data removed]",
      "text/plain": [
       "<matplotlib.figure.Figure at 0xbbf5898>"
      ]
     },
     "metadata": {},
     "output_type": "display_data"
    }
   ],
   "source": [
    "%matplotlib inline\n",
    "from matplotlib import pyplot as plt\n",
    "from matplotlib import rc\n",
    "rc('font',**{'family':'verdana'})\n",
    "rc('text', usetex=False)\n",
    "rc('text.latex',unicode=True)\n",
    "rc('text.latex',preamble=u'\\\\usepackage[utf8]{inputenc}')\n",
    "rc('text.latex',preamble=u'\\\\usepackage[russian]{babel}')\n",
    "rc('xtick', labelsize=12)\n",
    "plt.plot(np.arange(1, CNT_K), auc0, '-o', label=u'0', linewidth=2)\n",
    "plt.plot(np.arange(1, CNT_K), auc1, '-o', label=u'1', linewidth=2)\n",
    "plt.plot(np.arange(1, CNT_K), auc2, '-o', label=u'2', linewidth=2)\n",
    "plt.xlabel(u\"Значение $k$\", fontsize=13)\n",
    "plt.ylabel(u\"AUC_ROC\", fontsize=13)\n",
    "plt.yticks(fontsize=11)\n",
    "plt.legend(loc=2)\n",
    "plt.show()"
   ]
  },
  {
   "cell_type": "markdown",
   "metadata": {},
   "source": [
    "Лучшее $k$ для метрики \"индикатор совпадения\" = $11$, точность = $83,12\\%$\n",
    "\n",
    "Лучшее $k$ для метрики \"индикатор совпадения с штрафом\" = $7$, точность = $\\bf 83,61\\%$\n",
    "\n",
    "Лучшее $k$ для последней метрики = $9$, точность $82,11\\%$"
   ]
  },
  {
   "cell_type": "markdown",
   "metadata": {},
   "source": [
    "#### 3. Реализуйте счетчики (http://blogs.technet.com/b/machinelearning/archive/2015/02/17/big-learning-made-easy-with-counts.aspx), которые заменят категориальные признаки на вещественные.\n",
    "\n",
    "А именно, каждый категориальный признак нужно заменить на три: \n",
    "1. Число `counts` объектов в обучающей выборке с таким же значением признака.\n",
    "2. Число `clicks` объектов первого класса ($y = 1$) в обучающей выборке с таким же значением признака.\n",
    "3. Сглаженное отношение двух предыдущих величин: (`clicks` + 1) / (`counts` + 2).\n",
    "\n",
    "Поскольку признаки, содержащие информацию о целевой переменной, могут привести к переобучению, может оказаться полезным сделать *фолдинг*: разбить обучающую выборку на $n$ частей, и для $i$-й части считать `counts` и `clicks` по всем остальным частям. Для тестовой выборки используются счетчики, посчитанный по всей обучающей выборке. Реализуйте и такой вариант. Можно использовать $n = 3$.\n",
    "\n",
    "#### Посчитайте на тесте AUC-ROC метода $k$ ближайших соседей с евклидовой метрикой для выборки, где категориальные признаки заменены на счетчики. Сравните по AUC-ROC два варианта формирования выборки — с фолдингом и без. Не забудьте подобрать наилучшее число соседей $k$."
   ]
  },
  {
   "cell_type": "code",
   "execution_count": 8,
   "metadata": {
    "collapsed": false
   },
   "outputs": [],
   "source": [
    "def new_features(X_train, y_train, X, block_size=7000):\n",
    "    res = np.zeros((X.shape[0], X.shape[1]*3))\n",
    "    for i in range(X_train.shape[1]):\n",
    "        for j in range(0, X.shape[0], block_size):\n",
    "            r_border = min(j + block_size, X.shape[0])\n",
    "            matrix = X[j:r_border, i][:, np.newaxis] == X_train[:, i][np.newaxis, :]\n",
    "            res[j:r_border, i*3] = np.sum(matrix, axis=1)\n",
    "            res[j:r_border, i*3 + 1] = np.sum(matrix * y_train[np.newaxis, :], axis = 1)\n",
    "            res[j:r_border, i*3 + 2] = (res[j:r_border, i*3 + 1] + 1.0) / (res[j:r_border, i*3] + 2)\n",
    "        sys.stdout.write('.')\n",
    "        sys.stdout.flush()\n",
    "    sys.stdout.write('\\n')\n",
    "    return res\n",
    "def new_features_folding(X_train, n=3):\n",
    "    l = X_train.shape[0]\n",
    "    res = np.zeros((X_train.shape[0], X_train.shape[1]*3))\n",
    "    for i in range(n):\n",
    "        ins = range(i, l, n)\n",
    "        outs = np.delete(range(l), ins)\n",
    "        res[ins, :] = new_features(X_train[outs, :], y_train[outs], X_train[ins, :])\n",
    "        \n",
    "    indexes_cc = np.delete(range(res.shape[1]), range(2, res.shape[1], 3))\n",
    "    res[:, indexes_cc] *= n/(n - 1.0)\n",
    "    return res"
   ]
  },
  {
   "cell_type": "code",
   "execution_count": 23,
   "metadata": {
    "collapsed": false
   },
   "outputs": [
    {
     "name": "stdout",
     "output_type": "stream",
     "text": [
      ".........\n"
     ]
    }
   ],
   "source": [
    "X_train_non_folding = new_features(X_train, y_train, X_train)"
   ]
  },
  {
   "cell_type": "code",
   "execution_count": 24,
   "metadata": {
    "collapsed": false
   },
   "outputs": [
    {
     "name": "stdout",
     "output_type": "stream",
     "text": [
      ".........\n",
      ".........\n",
      ".........\n"
     ]
    }
   ],
   "source": [
    "X_train_folding = new_features_folding(X_train)"
   ]
  },
  {
   "cell_type": "code",
   "execution_count": 25,
   "metadata": {
    "collapsed": false
   },
   "outputs": [
    {
     "name": "stdout",
     "output_type": "stream",
     "text": [
      ".........\n"
     ]
    }
   ],
   "source": [
    "X_test_new = new_features(X_train, y_train, X_test)"
   ]
  },
  {
   "cell_type": "code",
   "execution_count": 26,
   "metadata": {
    "collapsed": false
   },
   "outputs": [
    {
     "name": "stdout",
     "output_type": "stream",
     "text": [
      ".......................................\n",
      "......................................."
     ]
    }
   ],
   "source": [
    "CNT_K = 40\n",
    "auc_folding = []\n",
    "auc_non_folding = []\n",
    "from sklearn.neighbors import KNeighborsClassifier\n",
    "for k in range(1, CNT_K):\n",
    "    knn = KNeighborsClassifier(n_neighbors=k)\n",
    "    knn.fit(X_train_folding, y_train)\n",
    "    prob = knn.predict_proba(X_test_new)[:, 1]\n",
    "    auc_folding.append(sklearn.metrics.roc_auc_score(y_test, prob))\n",
    "    sys.stdout.write('.')\n",
    "    sys.stdout.flush()\n",
    "sys.stdout.write('\\n')\n",
    "    \n",
    "for k in range(1, CNT_K):\n",
    "    knn = KNeighborsClassifier(n_neighbors=k)\n",
    "    knn.fit(X_train_non_folding, y_train)\n",
    "    prob = knn.predict_proba(X_test_new)[:, 1]\n",
    "    auc_non_folding.append(sklearn.metrics.roc_auc_score(y_test, prob))\n",
    "    sys.stdout.write('.')\n",
    "    sys.stdout.flush()"
   ]
  },
  {
   "cell_type": "code",
   "execution_count": 27,
   "metadata": {
    "collapsed": false
   },
   "outputs": [
    {
     "data": {
      "image/png": "[encoded data removed]",
      "text/plain": [
       "<matplotlib.figure.Figure at 0xc030be0>"
      ]
     },
     "metadata": {},
     "output_type": "display_data"
    },
    {
     "name": "stdout",
     "output_type": "stream",
     "text": [
      "Folding\n",
      "Best k =  15\n",
      "Precision =  0.776749110969\n",
      "Non folding\n",
      "Best k =  13\n",
      "Precision =  0.796091066126\n"
     ]
    }
   ],
   "source": [
    "auc_folding = np.array(auc_folding)\n",
    "auc_non_folding = np.array(auc_non_folding)\n",
    "plt.plot(np.arange(1, CNT_K), auc_folding, '-o', label=u'С фолдингом', linewidth=2)\n",
    "plt.plot(np.arange(1, CNT_K), auc_non_folding, '-o', label=u'Без фолдинга', linewidth=2)\n",
    "plt.xlabel(u\"Значение $k$\", fontsize=13)\n",
    "plt.ylabel(u\"AUC_ROC\", fontsize=13)\n",
    "plt.yticks(fontsize=11)\n",
    "plt.legend(loc=4)\n",
    "plt.show()\n",
    "print \"Folding\"\n",
    "print \"Best k = \", np.argmax(auc_folding)\n",
    "print \"Precision = \", np.max(auc_folding)\n",
    "print \"Non folding\"\n",
    "print \"Best k = \", np.argmax(auc_non_folding)\n",
    "print \"Precision = \", np.max(auc_non_folding)\n"
   ]
  },
  {
   "cell_type": "markdown",
   "metadata": {},
   "source": [
    "Лучшее $k$ для алгоритма с фолдами = $15$, точность = $77,67\\%$\n",
    "\n",
    "Лучшее $k$ для алгоритма без фолдов = $13$, точность = $\\bf 79,61\\%$"
   ]
  },
  {
   "cell_type": "markdown",
   "metadata": {},
   "source": [
    "#### 4. Добавьте в исходную выборку парные признаки — то есть для каждой пары $f_i$, $f_j$ исходных категориальных признаков добавьте новый категориальный признак $f_{ij}$, значение которого является конкатенацией значений $f_i$ и $f_j$. Посчитайте счетчики для этой выборки, найдите качество метода $k$ ближайших соседей с наилучшим $k$ (с фолдингом и без)."
   ]
  },
  {
   "cell_type": "code",
   "execution_count": 28,
   "metadata": {
    "collapsed": true
   },
   "outputs": [],
   "source": [
    "def new_pair_features(X):\n",
    "    l = X.shape[0]\n",
    "    d = X.shape[1]\n",
    "    X1 = np.repeat(X, d, axis=1)\n",
    "    X2 = np.tile(X, [1, d])\n",
    "    idx = np.array([])\n",
    "    for i in range(1, d):\n",
    "        idx = np.concatenate((idx, np.arange(i*d, i*d + i)))\n",
    "    X1 = np.delete(X1, idx, axis = 1)\n",
    "    X2 = np.delete(X2, idx, axis = 1)\n",
    "    return np.core.records.fromarrays([X1, X2], names='a, b')\n",
    "    "
   ]
  },
  {
   "cell_type": "code",
   "execution_count": 29,
   "metadata": {
    "collapsed": false
   },
   "outputs": [
    {
     "name": "stdout",
     "output_type": "stream",
     "text": [
      "45\n"
     ]
    }
   ],
   "source": [
    "X_train_pair = new_pair_features(X_train)\n",
    "print X_train_pair.shape[1]"
   ]
  },
  {
   "cell_type": "code",
   "execution_count": 30,
   "metadata": {
    "collapsed": false
   },
   "outputs": [
    {
     "name": "stdout",
     "output_type": "stream",
     "text": [
      ".............................................\n"
     ]
    }
   ],
   "source": [
    "X_train_pair_non_folding = new_features(X_train_pair, y_train, X_train_pair)"
   ]
  },
  {
   "cell_type": "code",
   "execution_count": 31,
   "metadata": {
    "collapsed": false
   },
   "outputs": [
    {
     "name": "stdout",
     "output_type": "stream",
     "text": [
      ".............................................\n",
      ".............................................\n",
      ".............................................\n"
     ]
    }
   ],
   "source": [
    "X_train_pair_folding = new_features_folding(X_train_pair)"
   ]
  },
  {
   "cell_type": "code",
   "execution_count": 32,
   "metadata": {
    "collapsed": false
   },
   "outputs": [
    {
     "name": "stdout",
     "output_type": "stream",
     "text": [
      ".............................................\n"
     ]
    }
   ],
   "source": [
    "X_test_pair = new_features(X_train_pair, y_train, new_pair_features(X_test))"
   ]
  },
  {
   "cell_type": "code",
   "execution_count": 33,
   "metadata": {
    "collapsed": false
   },
   "outputs": [
    {
     "name": "stdout",
     "output_type": "stream",
     "text": [
      ".......................................\n",
      "......................................."
     ]
    }
   ],
   "source": [
    "CNT_K = 40\n",
    "auc_folding = []\n",
    "auc_non_folding = []\n",
    "from sklearn.neighbors import KNeighborsClassifier\n",
    "for k in range(1, CNT_K):\n",
    "    knn = KNeighborsClassifier(n_neighbors=k)\n",
    "    knn.fit(X_train_pair_folding, y_train)\n",
    "    prob = knn.predict_proba(X_test_pair)[:, 1]\n",
    "    auc_folding.append(sklearn.metrics.roc_auc_score(y_test, prob))\n",
    "    sys.stdout.write('.')\n",
    "    sys.stdout.flush()\n",
    "sys.stdout.write('\\n')\n",
    "    \n",
    "for k in range(1, CNT_K):\n",
    "    knn = KNeighborsClassifier(n_neighbors=k)\n",
    "    knn.fit(X_train_pair_non_folding, y_train)\n",
    "    prob = knn.predict_proba(X_test_pair)[:, 1]\n",
    "    auc_non_folding.append(sklearn.metrics.roc_auc_score(y_test, prob))\n",
    "    sys.stdout.write('.')\n",
    "    sys.stdout.flush()"
   ]
  },
  {
   "cell_type": "code",
   "execution_count": 53,
   "metadata": {
    "collapsed": true
   },
   "outputs": [],
   "source": [
    "%matplotlib inline\n",
    "from matplotlib import pyplot as plt\n",
    "from matplotlib import rc\n",
    "rc('font',**{'family':'verdana'})\n",
    "rc('text', usetex=False)\n",
    "rc('text.latex',unicode=True)\n",
    "rc('text.latex',preamble=u'\\\\usepackage[utf8]{inputenc}')\n",
    "rc('text.latex',preamble=u'\\\\usepackage[russian]{babel}')"
   ]
  },
  {
   "cell_type": "code",
   "execution_count": 35,
   "metadata": {
    "collapsed": false
   },
   "outputs": [
    {
     "data": {
      "image/png": "[encoded data removed]",
      "text/plain": [
       "<matplotlib.figure.Figure at 0x1c5996d8>"
      ]
     },
     "metadata": {},
     "output_type": "display_data"
    },
    {
     "name": "stdout",
     "output_type": "stream",
     "text": [
      "Folding\n",
      "Best k =  12\n",
      "Precision =  0.784480825176\n",
      "Non folding\n",
      "Best k =  7\n",
      "Precision =  0.801859076241\n"
     ]
    }
   ],
   "source": [
    "auc_folding = np.array(auc_folding)\n",
    "auc_non_folding = np.array(auc_non_folding)\n",
    "plt.plot(np.arange(1, CNT_K), auc_folding, '-o', label=u'С фолдингом', linewidth=2)\n",
    "plt.plot(np.arange(1, CNT_K), auc_non_folding, '-o', label=u'Без фолдинга', linewidth=2)\n",
    "plt.xlabel(u\"Значение $k$\", fontsize=13)\n",
    "plt.ylabel(u\"AUC_ROC\", fontsize=13)\n",
    "plt.yticks(fontsize=11)\n",
    "plt.legend(loc=4)\n",
    "plt.show()\n",
    "print \"Folding\"\n",
    "print \"Best k = \", np.argmax(auc_folding)\n",
    "print \"Precision = \", np.max(auc_folding)\n",
    "print \"Non folding\"\n",
    "print \"Best k = \", np.argmax(auc_non_folding)\n",
    "print \"Precision = \", np.max(auc_non_folding)"
   ]
  },
  {
   "cell_type": "markdown",
   "metadata": {},
   "source": [
    "Лучшее $k$ для алгоритма с фолдами = $12$, точность = $78,45\\%$\n",
    "\n",
    "Лучшее $k$ для алгоритма без фолдов = $7$, точность = $\\bf 80,18\\%$"
   ]
  },
  {
   "cell_type": "markdown",
   "metadata": {},
   "source": [
    "## Часть 2: Решающие деревья и леса"
   ]
  },
  {
   "cell_type": "markdown",
   "metadata": {},
   "source": [
    "#### 1. Возьмите из предыдущей части выборку с парными признаками, преобразованную с помощью счетчиков без фолдинга. Настройте решающее дерево, подобрав оптимальные значения параметров `max_depth` и `min_samples_leaf`. Какой наилучший AUC-ROC на контроле удалось получить?"
   ]
  },
  {
   "cell_type": "code",
   "execution_count": 99,
   "metadata": {
    "collapsed": false
   },
   "outputs": [
    {
     "data": {
      "text/plain": [
       "DecisionTreeClassifier(class_weight=None, criterion='gini', max_depth=2,\n",
       "            max_features=None, max_leaf_nodes=None, min_samples_leaf=2001,\n",
       "            min_samples_split=2, min_weight_fraction_leaf=0.0,\n",
       "            random_state=17, splitter='best')"
      ]
     },
     "execution_count": 99,
     "metadata": {},
     "output_type": "execute_result"
    }
   ],
   "source": [
    "X_train2 = X_train_pair_non_folding\n",
    "X_test2 = X_test_pair\n",
    "from sklearn.tree import DecisionTreeClassifier\n",
    "DTC = DecisionTreeClassifier(random_state=17, max_depth=2, min_samples_leaf=2001)\n",
    "DTC.fit(X_train2, y_train)"
   ]
  },
  {
   "cell_type": "code",
   "execution_count": 100,
   "metadata": {
    "collapsed": false
   },
   "outputs": [
    {
     "name": "stdout",
     "output_type": "stream",
     "text": [
      "0.802384641595\n"
     ]
    }
   ],
   "source": [
    "prob = DTC.predict_proba(X_test2)[:, 1]\n",
    "auc = sklearn.metrics.roc_auc_score(y_test, prob)\n",
    "print auc"
   ]
  },
  {
   "cell_type": "code",
   "execution_count": 89,
   "metadata": {
    "collapsed": false
   },
   "outputs": [
    {
     "name": "stdout",
     "output_type": "stream",
     "text": [
      "............\n"
     ]
    }
   ],
   "source": [
    "auc = []\n",
    "for samples_leaf in range(1, 6000, 500):\n",
    "    auc_i = []\n",
    "    for depth in range(1, 5, 1):\n",
    "        DTC = DecisionTreeClassifier(random_state=17, max_depth=depth, min_samples_leaf=samples_leaf)\n",
    "        DTC.fit(X_train2, y_train)\n",
    "        prob = DTC.predict_proba(X_test2)[:, 1]\n",
    "        auc_i.append(sklearn.metrics.roc_auc_score(y_test, prob))\n",
    "    auc.append(auc_i)\n",
    "    sys.stdout.write('.')\n",
    "    sys.stdout.flush()\n",
    "sys.stdout.write('\\n')"
   ]
  },
  {
   "cell_type": "code",
   "execution_count": 95,
   "metadata": {
    "collapsed": false
   },
   "outputs": [
    {
     "data": {
      "image/png": "[encoded data removed]",
      "text/plain": [
       "<matplotlib.figure.Figure at 0x1c28d7f0>"
      ]
     },
     "metadata": {},
     "output_type": "display_data"
    }
   ],
   "source": [
    "idx = np.argsort(np.max(auc, axis = 1))\n",
    "for i in range(3):\n",
    "    plt.plot(np.arange(1, 5, 1), auc[idx[-i]], '-o', label=\"m_s_l = \" + str(idx[-i]*500 + 1), linewidth=2)\n",
    "plt.xlabel(u\"max_depth\", fontsize=13)\n",
    "plt.ylabel(u\"AUC_ROC\", fontsize=13)\n",
    "plt.yticks(fontsize=11)\n",
    "plt.legend(loc=5)\n",
    "plt.show()"
   ]
  },
  {
   "cell_type": "markdown",
   "metadata": {},
   "source": [
    " Наилучший AUC_ROC = $80,24\\%$, достигается на парметрах:\n",
    "\n",
    "$min\\_samples\\_leaf = 2001$\n",
    "\n",
    "$max\\_depth = 2$"
   ]
  },
  {
   "cell_type": "markdown",
   "metadata": {},
   "source": [
    "#### 2. Настройте случайный лес, подобрав оптимальное число деревьев `n_estimators`. Какое качество на тестовой выборке он дает?"
   ]
  },
  {
   "cell_type": "code",
   "execution_count": 140,
   "metadata": {
    "collapsed": false
   },
   "outputs": [
    {
     "name": "stdout",
     "output_type": "stream",
     "text": [
      "0.834583943453\n"
     ]
    }
   ],
   "source": [
    "X_train2 = X_train_pair_non_folding\n",
    "X_test2 = X_test_pair\n",
    "from sklearn.ensemble import RandomForestClassifier\n",
    "RFC = RandomForestClassifier(random_state=17, max_depth=4, min_samples_leaf=1001, n_estimators=11)\n",
    "RFC.fit(X_train2, y_train)\n",
    "prob = RFC.predict_proba(X_test2)[:, 1]\n",
    "auc_best = sklearn.metrics.roc_auc_score(y_test, prob)\n",
    "print auc_best"
   ]
  },
  {
   "cell_type": "code",
   "execution_count": 134,
   "metadata": {
    "collapsed": false
   },
   "outputs": [
    {
     "name": "stdout",
     "output_type": "stream",
     "text": [
      "............\n",
      "............\n",
      "............\n",
      "............\n",
      "............\n",
      "............\n",
      "............\n",
      "............\n",
      "............\n",
      "............\n",
      "\n"
     ]
    }
   ],
   "source": [
    "auc = []\n",
    "for estimators in range(1, 20, 2):\n",
    "    auc_j = []\n",
    "    for samples_leaf in range(1, 6000, 500):\n",
    "        auc_i = []\n",
    "        for depth in range(1, 5, 1):\n",
    "            RFC = RandomForestClassifier(random_state=17, max_depth=depth, min_samples_leaf=samples_leaf, n_estimators=estimators)\n",
    "            RFC.fit(X_train2, y_train)\n",
    "            prob = RFC.predict_proba(X_test2)[:, 1]\n",
    "            auc_i.append(sklearn.metrics.roc_auc_score(y_test, prob))\n",
    "        auc_j.append(auc_i)\n",
    "        sys.stdout.write('.')\n",
    "        sys.stdout.flush()\n",
    "    auc.append(auc_j)\n",
    "    sys.stdout.write('\\n')"
   ]
  },
  {
   "cell_type": "code",
   "execution_count": 141,
   "metadata": {
    "collapsed": false
   },
   "outputs": [
    {
     "name": "stdout",
     "output_type": "stream",
     "text": [
      "0.834583943453 11 1001 4\n"
     ]
    }
   ],
   "source": [
    "idx = np.argwhere(auc == np.max(auc))\n",
    "print np.max(auc), idx[0][0] * 2 + 1, idx[0][1] * 500 + 1, idx[0][2] + 1"
   ]
  },
  {
   "cell_type": "markdown",
   "metadata": {},
   "source": [
    "Лучший AUC_ROC = $\\bf 83,46\\%$, достигается на парметрах:\n",
    "\n",
    "$n\\_estimators = 11$\n",
    "\n",
    "$min\\_samples\\_leaf = 1001$\n",
    "\n",
    "$max\\_depth = 4$"
   ]
  },
  {
   "cell_type": "markdown",
   "metadata": {},
   "source": [
    "#### 3. Возьмите выборку с парными признаками, для которой счетчики посчитаны с фолдингом. Обучите на ней случайный лес, подобрав число деревьев. Какое качество на тестовой выборке он дает? Чем вы можете объяснить изменение результата по сравнению с предыдущим пунктом?"
   ]
  },
  {
   "cell_type": "code",
   "execution_count": 142,
   "metadata": {
    "collapsed": true
   },
   "outputs": [],
   "source": [
    "X_train3 = X_train_pair_folding\n",
    "X_test3 = X_test_pair"
   ]
  },
  {
   "cell_type": "code",
   "execution_count": 167,
   "metadata": {
    "collapsed": false
   },
   "outputs": [
    {
     "name": "stdout",
     "output_type": "stream",
     "text": [
      "0.864658070721\n"
     ]
    }
   ],
   "source": [
    "from sklearn.ensemble import RandomForestClassifier\n",
    "RFC = RandomForestClassifier(random_state=17, max_depth=10, min_samples_leaf=3, n_estimators=270)\n",
    "RFC.fit(X_train3, y_train)\n",
    "prob = RFC.predict_proba(X_test3)[:, 1]\n",
    "auc_best = sklearn.metrics.roc_auc_score(y_test, prob)\n",
    "print auc_best"
   ]
  },
  {
   "cell_type": "code",
   "execution_count": 170,
   "metadata": {
    "collapsed": false
   },
   "outputs": [
    {
     "name": "stdout",
     "output_type": "stream",
     "text": [
      ".....0.804802206278\n",
      "\n",
      ".....0.867049756995\n",
      "\n",
      ".....0.869904918408\n",
      "\n",
      ".....0.868096125355\n",
      "\n",
      ".....0.866984611691\n",
      "\n",
      ".....0.866268282917\n",
      "\n",
      ".....0.866762937947\n",
      "\n",
      ".....0.867013275624\n",
      "\n",
      ".....0.866757366901\n",
      "\n",
      ".....0.866643789433\n",
      "\n"
     ]
    }
   ],
   "source": [
    "auc = []\n",
    "for estimators in range(1, 400, 40):\n",
    "    auc_j = []\n",
    "    for samples_leaf in range(1, 10, 2):\n",
    "        auc_i = []\n",
    "        for depth in range(1, 16, 2):\n",
    "            RFC = RandomForestClassifier(random_state=17, max_depth=depth, min_samples_leaf=samples_leaf, n_estimators=estimators)\n",
    "            RFC.fit(X_train3, y_train)\n",
    "            prob = RFC.predict_proba(X_test3)[:, 1]\n",
    "            auc_i.append(sklearn.metrics.roc_auc_score(y_test, prob))\n",
    "        auc_j.append(auc_i)\n",
    "        sys.stdout.write('.')\n",
    "        sys.stdout.flush()\n",
    "    print np.max(auc_j)\n",
    "    auc.append(auc_j)\n",
    "    sys.stdout.write('\\n')"
   ]
  },
  {
   "cell_type": "code",
   "execution_count": 171,
   "metadata": {
    "collapsed": false
   },
   "outputs": [
    {
     "name": "stdout",
     "output_type": "stream",
     "text": [
      "0.869904918408 81 3 13\n"
     ]
    }
   ],
   "source": [
    "idx = np.argwhere(auc == np.max(auc))\n",
    "print np.max(auc), idx[0][0] * 40 + 1, idx[0][1] * 2 + 1, idx[0][2] * 2 + 1"
   ]
  },
  {
   "cell_type": "markdown",
   "metadata": {},
   "source": [
    "Лучший AUC_ROC = $\\bf 86,99\\%$, достигается на парметрах:\n",
    "\n",
    "$n\\_estimators = 81$\n",
    "\n",
    "$min\\_samples\\_leaf = 3$\n",
    "\n",
    "$max\\_depth = 13$"
   ]
  },
  {
   "cell_type": "markdown",
   "metadata": {
    "collapsed": true
   },
   "source": [
    "Алгоритм $k$ ближайших соседей менее склонен к переобучению, поэтому для него обучение на выборке с фолдингом оказалось менее качественным. \n",
    "\n",
    "В случае же с деревьями, которые сильно склонны к переобучению, выборка с фолдингом оказалась лучше, потому что для неё в признаках не учитывается информация о целевой переменной. Это частично решает проблему переобучения древьев."
   ]
  }
 ],
 "metadata": {
  "kernelspec": {
   "display_name": "Python 2",
   "language": "python",
   "name": "python2"
  },
  "language_info": {
   "codemirror_mode": {
    "name": "ipython",
    "version": 2
   },
   "file_extension": ".py",
   "mimetype": "text/x-python",
   "name": "python",
   "nbconvert_exporter": "python",
   "pygments_lexer": "ipython2",
   "version": "2.7.10"
  }
 },
 "nbformat": 4,
 "nbformat_minor": 0
}
